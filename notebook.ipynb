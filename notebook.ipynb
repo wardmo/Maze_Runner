{
 "cells": [
  {
   "cell_type": "code",
   "execution_count": null,
   "metadata": {},
   "outputs": [],
   "source": [
    "from Kruskal_Generation import Kruskal_Generation\n",
    "from Prims_Generation import Prims_Generation\n",
    "from DFS_Generation import DFS_Generation\n",
    "from Wilsons_Generation import Wilsons_Generation\n",
    "from Maze import Maze_Rep\n",
    "from BFS_Solver import BFS\n",
    "from DFS_Solver import DFS\n",
    "\n",
    "maze = Wilsons_Generation(12,40)\n",
    "rep = Maze_Rep(maze, solution_nodes=BFS(maze).solve())\n",
    "\n",
    "print(rep)\n"
   ]
  }
 ],
 "metadata": {
  "kernelspec": {
   "display_name": "Python 3",
   "language": "python",
   "name": "python3"
  },
  "language_info": {
   "codemirror_mode": {
    "name": "ipython",
    "version": 3
   },
   "file_extension": ".py",
   "mimetype": "text/x-python",
   "name": "python",
   "nbconvert_exporter": "python",
   "pygments_lexer": "ipython3",
   "version": "3.10.0b3"
  },
  "orig_nbformat": 4,
  "vscode": {
   "interpreter": {
    "hash": "11938c6bc6919ae2720b4d5011047913343b08a43b18698fd82dedb0d4417594"
   }
  }
 },
 "nbformat": 4,
 "nbformat_minor": 2
}
