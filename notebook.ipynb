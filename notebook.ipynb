{
 "cells": [
  {
   "cell_type": "code",
   "execution_count": 1,
   "metadata": {},
   "outputs": [
    {
     "ename": "TypeError",
     "evalue": "'module' object is not callable",
     "output_type": "error",
     "traceback": [
      "\u001b[1;31m---------------------------------------------------------------------------\u001b[0m",
      "\u001b[1;31mTypeError\u001b[0m                                 Traceback (most recent call last)",
      "\u001b[1;32mc:\\Dev\\Maze_Runner\\notebook.ipynb Cell 1\u001b[0m line \u001b[0;36m6\n\u001b[0;32m      <a href='vscode-notebook-cell:/c%3A/Dev/Maze_Runner/notebook.ipynb#W0sZmlsZQ%3D%3D?line=2'>3</a>\u001b[0m \u001b[39mfrom\u001b[39;00m \u001b[39mMaze\u001b[39;00m \u001b[39mimport\u001b[39;00m Maze_Rep\n\u001b[0;32m      <a href='vscode-notebook-cell:/c%3A/Dev/Maze_Runner/notebook.ipynb#W0sZmlsZQ%3D%3D?line=4'>5</a>\u001b[0m maze \u001b[39m=\u001b[39m Wilsons_Generation(\u001b[39m12\u001b[39m,\u001b[39m40\u001b[39m)\n\u001b[1;32m----> <a href='vscode-notebook-cell:/c%3A/Dev/Maze_Runner/notebook.ipynb#W0sZmlsZQ%3D%3D?line=5'>6</a>\u001b[0m rep \u001b[39m=\u001b[39m Maze_Rep(maze, solution_nodes\u001b[39m=\u001b[39mBFS(maze)\u001b[39m.\u001b[39msolve())\n\u001b[0;32m      <a href='vscode-notebook-cell:/c%3A/Dev/Maze_Runner/notebook.ipynb#W0sZmlsZQ%3D%3D?line=7'>8</a>\u001b[0m \u001b[39mprint\u001b[39m(rep)\n",
      "\u001b[1;31mTypeError\u001b[0m: 'module' object is not callable"
     ]
    }
   ],
   "source": [
    "from Generators.Wilsons_Generation import Wilsons_Generation\n",
    "from Solvers.BFS_Solver import BFS_Solver as BFS\n",
    "from Maze import Maze_Rep\n",
    "\n",
    "maze = Wilsons_Generation(12,40)\n",
    "rep = Maze_Rep(maze, solution_nodes=BFS(maze).solve())\n",
    "\n",
    "print(rep)\n"
   ]
  }
 ],
 "metadata": {
  "kernelspec": {
   "display_name": "Python 3",
   "language": "python",
   "name": "python3"
  },
  "language_info": {
   "codemirror_mode": {
    "name": "ipython",
    "version": 3
   },
   "file_extension": ".py",
   "mimetype": "text/x-python",
   "name": "python",
   "nbconvert_exporter": "python",
   "pygments_lexer": "ipython3",
   "version": "3.10.7"
  },
  "orig_nbformat": 4,
  "vscode": {
   "interpreter": {
    "hash": "11938c6bc6919ae2720b4d5011047913343b08a43b18698fd82dedb0d4417594"
   }
  }
 },
 "nbformat": 4,
 "nbformat_minor": 2
}
