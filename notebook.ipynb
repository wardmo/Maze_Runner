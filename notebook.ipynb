{
 "cells": [
  {
   "cell_type": "code",
   "execution_count": 3,
   "metadata": {},
   "outputs": [],
   "source": [
    "from enum import Enum\n",
    "\n",
    "class Maze_Types(Enum):\n",
    "    Wall = 0\n",
    "    Path = 1\n",
    "    Start = 2\n",
    "    End = 3"
   ]
  },
  {
   "cell_type": "code",
   "execution_count": 72,
   "metadata": {},
   "outputs": [],
   "source": [
    "import random\n",
    "\n",
    "class Maze_square():\n",
    "\n",
    "    def __init__(self, dim: int):\n",
    "        self.content = [ [Maze_Types.Wall for i in range(dim)] for j in range(dim)]\n",
    "        self.content[0][1] = Maze_Types.Start\n",
    "        self.content[dim-1][dim-2] = Maze_Types.End\n",
    "        # TODO assign randomize maze, but don't create any loops or cycles\n",
    "        pass\n",
    "\n",
    "    def __str__(self):\n",
    "        return '\\n'.join([''.join([chr(0x2588) if cell == Maze_Types.Wall else ' ' for cell in row]) for row in self.content])\n",
    "        # a = []\n",
    "        # for row in self.content:\n",
    "        #     b = []\n",
    "        #     for cell in row:\n",
    "        #         b.append(chr(0x2588)) if cell == Maze_Types.Wall else b.append(' ') \n",
    "        #     a.append(''.join(b))\n",
    "        # return '\\n'.join(a)\n",
    "\n",
    "    "
   ]
  },
  {
   "cell_type": "code",
   "execution_count": 73,
   "metadata": {},
   "outputs": [
    {
     "name": "stdout",
     "output_type": "stream",
     "text": [
      "█ ████████\n",
      "██████████\n",
      "██████████\n",
      "██████████\n",
      "██████████\n",
      "██████████\n",
      "██████████\n",
      "██████████\n",
      "██████████\n",
      "████████ █\n"
     ]
    }
   ],
   "source": [
    "maze = Maze_square(10)\n",
    "\n",
    "print(maze)"
   ]
  }
 ],
 "metadata": {
  "kernelspec": {
   "display_name": "Python 3",
   "language": "python",
   "name": "python3"
  },
  "language_info": {
   "codemirror_mode": {
    "name": "ipython",
    "version": 3
   },
   "file_extension": ".py",
   "mimetype": "text/x-python",
   "name": "python",
   "nbconvert_exporter": "python",
   "pygments_lexer": "ipython3",
   "version": "3.9.0"
  },
  "orig_nbformat": 4,
  "vscode": {
   "interpreter": {
    "hash": "11938c6bc6919ae2720b4d5011047913343b08a43b18698fd82dedb0d4417594"
   }
  }
 },
 "nbformat": 4,
 "nbformat_minor": 2
}
